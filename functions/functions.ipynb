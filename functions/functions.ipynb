{
 "cells": [
  {
   "cell_type": "code",
   "execution_count": null,
   "id": "0794a407-953c-41d1-9e3c-0825184b217c",
   "metadata": {},
   "outputs": [],
   "source": [
    "#time function"
   ]
  },
  {
   "cell_type": "code",
   "execution_count": null,
   "id": "3f13df4d-686e-4cc5-af00-d5fcb33c30ae",
   "metadata": {},
   "outputs": [],
   "source": []
  },
  {
   "cell_type": "code",
   "execution_count": 1,
   "id": "a104cf7c-9224-427b-9b41-43eeebcd27f0",
   "metadata": {},
   "outputs": [
    {
     "name": "stdout",
     "output_type": "stream",
     "text": [
      "start\n",
      "end\n"
     ]
    }
   ],
   "source": [
    "import time\n",
    "print(\"start\")\n",
    "time.sleep(2)\n",
    "print(\"end\")\n"
   ]
  },
  {
   "cell_type": "code",
   "execution_count": 2,
   "id": "38d2baa6-d3e7-499f-bc47-9bf5d4c91a88",
   "metadata": {},
   "outputs": [
    {
     "name": "stdout",
     "output_type": "stream",
     "text": [
      "2021-06-16 02:07:36\n"
     ]
    }
   ],
   "source": [
    "from datetime import datetime\n",
    "timestamp=1623789456\n",
    "dt=datetime.fromtimestamp(timestamp)\n",
    "print(dt)\n"
   ]
  },
  {
   "cell_type": "code",
   "execution_count": null,
   "id": "cfbf4286-58f1-44a6-9ba7-1cf0555230cd",
   "metadata": {},
   "outputs": [],
   "source": [
    "\n",
    "#functions"
   ]
  },
  {
   "cell_type": "code",
   "execution_count": 3,
   "id": "aa9f7b6c-6b83-4982-8a4e-dcb31a849fc7",
   "metadata": {},
   "outputs": [
    {
     "name": "stdout",
     "output_type": "stream",
     "text": [
      "my name bhavana\n"
     ]
    }
   ],
   "source": [
    "def func1():\n",
    "    print(\"my name bhavana\")\n",
    "func1()"
   ]
  },
  {
   "cell_type": "code",
   "execution_count": 5,
   "id": "4cebc526-b2ed-4101-b9cd-c9f4d65e8be7",
   "metadata": {},
   "outputs": [],
   "source": [
    "def func2(name):\n",
    "    print(\"hello\",name)"
   ]
  },
  {
   "cell_type": "code",
   "execution_count": 6,
   "id": "99574855-7460-43d5-9765-63f3661a47ba",
   "metadata": {},
   "outputs": [
    {
     "name": "stdout",
     "output_type": "stream",
     "text": [
      "hello bhavana\n"
     ]
    }
   ],
   "source": [
    "func2(\"bhavana\")"
   ]
  },
  {
   "cell_type": "code",
   "execution_count": 7,
   "id": "2a8ca5df-458d-49be-b3b2-7ddb5b524c9c",
   "metadata": {},
   "outputs": [
    {
     "name": "stdout",
     "output_type": "stream",
     "text": [
      "16\n"
     ]
    }
   ],
   "source": [
    "def add(a,b):\n",
    "    return a+b\n",
    "result = add(12,4)\n",
    "print(result)"
   ]
  },
  {
   "cell_type": "code",
   "execution_count": 8,
   "id": "28d259dc-10c9-44e8-bd76-c0b0099f6fb1",
   "metadata": {},
   "outputs": [
    {
     "name": "stdout",
     "output_type": "stream",
     "text": [
      "8\n"
     ]
    }
   ],
   "source": [
    "def multiply(a,b):\n",
    "    return a*b\n",
    "result =multiply(2,4)\n",
    "print (result)"
   ]
  },
  {
   "cell_type": "code",
   "execution_count": 12,
   "id": "6e6f1c5d-267c-47aa-94e3-7806d46b4696",
   "metadata": {},
   "outputs": [
    {
     "name": "stdout",
     "output_type": "stream",
     "text": [
      "not possible\n",
      "None\n"
     ]
    }
   ],
   "source": [
    "def divide(a,b):\n",
    "    if b!=0:\n",
    "        return a/b\n",
    "    else:\n",
    "        print(\"not possible\")\n",
    "result = divide(15,0)\n",
    "print(result)"
   ]
  },
  {
   "cell_type": "code",
   "execution_count": 13,
   "id": "9b4cf2b2-1a4b-4f96-9390-13ca0f514bf7",
   "metadata": {},
   "outputs": [
    {
     "name": "stdout",
     "output_type": "stream",
     "text": [
      "56778 bhavana\n"
     ]
    }
   ],
   "source": [
    "def employee_Details(employeename,employeeid):\n",
    "    print(employeeid,employeename)\n",
    "employee_Details(employeename=\"bhavana\",employeeid=56778)"
   ]
  },
  {
   "cell_type": "code",
   "execution_count": null,
   "id": "3c12cc42-ac5b-420c-9870-318ae886af3a",
   "metadata": {},
   "outputs": [],
   "source": [
    "#lambda functions"
   ]
  },
  {
   "cell_type": "code",
   "execution_count": 14,
   "id": "4c273175-af9f-4e31-bab2-b349e3ab2bfc",
   "metadata": {},
   "outputs": [
    {
     "name": "stdout",
     "output_type": "stream",
     "text": [
      "12\n"
     ]
    }
   ],
   "source": [
    "z= lambda x :x*2\n",
    "print(z(6))\n",
    "\n"
   ]
  },
  {
   "cell_type": "code",
   "execution_count": 15,
   "id": "0712561a-25d0-443f-9da8-d4f6493b33e2",
   "metadata": {},
   "outputs": [
    {
     "name": "stdout",
     "output_type": "stream",
     "text": [
      "8\n"
     ]
    }
   ],
   "source": [
    "add=lambda a,b: a+b\n",
    "print(add(3,5))"
   ]
  },
  {
   "cell_type": "code",
   "execution_count": null,
   "id": "d2cacafe-3a1e-4f52-b22e-601a13ea08b6",
   "metadata": {},
   "outputs": [],
   "source": []
  }
 ],
 "metadata": {
  "kernelspec": {
   "display_name": "Python 3 (ipykernel)",
   "language": "python",
   "name": "python3"
  },
  "language_info": {
   "codemirror_mode": {
    "name": "ipython",
    "version": 3
   },
   "file_extension": ".py",
   "mimetype": "text/x-python",
   "name": "python",
   "nbconvert_exporter": "python",
   "pygments_lexer": "ipython3",
   "version": "3.12.7"
  }
 },
 "nbformat": 4,
 "nbformat_minor": 5
}
